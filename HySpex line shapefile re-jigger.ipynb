{
 "cells": [
  {
   "cell_type": "markdown",
   "metadata": {},
   "source": [
    "## Generate waypoints for flightlines from line Shapefile"
   ]
  },
  {
   "cell_type": "markdown",
   "metadata": {},
   "source": [
    "#### Importing some libraries, and other preparations, for later use"
   ]
  },
  {
   "cell_type": "markdown",
   "metadata": {},
   "source": [
    "**NOTE: The following libraries are not in the Python standard library and need to be installed using `pip` or `conda`, or whichever package management system you use.**"
   ]
  },
  {
   "cell_type": "code",
   "execution_count": 99,
   "metadata": {},
   "outputs": [],
   "source": [
    "import os\n",
    "import fiona\n",
    "import geopandas as gp\n",
    "from shapely.geometry import LineString"
   ]
  },
  {
   "cell_type": "markdown",
   "metadata": {},
   "source": [
    "### Read and inspect shapefile"
   ]
  },
  {
   "cell_type": "markdown",
   "metadata": {},
   "source": [
    "Enter Shapefile path and prefix to use for waypoints."
   ]
  },
  {
   "cell_type": "code",
   "execution_count": 160,
   "metadata": {},
   "outputs": [],
   "source": [
    "shapefile = gp.read_file(\"SHP/CPCRW/CPCRW_flightlines.shp\")\n",
    "prefix = 'CPC'"
   ]
  },
  {
   "cell_type": "markdown",
   "metadata": {},
   "source": [
    "The following plot should show **lines**. If the Shapefile does not contain lines, the rest of this notebook cannot directly be applied. "
   ]
  },
  {
   "cell_type": "code",
   "execution_count": 161,
   "metadata": {},
   "outputs": [
    {
     "data": {
      "image/png": "[encoded data removed]",
      "text/plain": [
       "<Figure size 432x288 with 1 Axes>"
      ]
     },
     "metadata": {
      "needs_background": "light"
     },
     "output_type": "display_data"
    }
   ],
   "source": [
    "ax = shapefile.plot()\n",
    "ax.set_aspect('equal')"
   ]
  },
  {
   "cell_type": "markdown",
   "metadata": {},
   "source": [
    "For use in GPS, the data has to be in WGS84 lat/lon. This is EPSG:4326. We reproject if necessary. "
   ]
  },
  {
   "cell_type": "code",
   "execution_count": 162,
   "metadata": {},
   "outputs": [
    {
     "data": {
      "text/plain": [
       "<Projected CRS: EPSG:32606>\n",
       "Name: WGS 84 / UTM zone 6N\n",
       "Axis Info [cartesian]:\n",
       "- E[east]: Easting (metre)\n",
       "- N[north]: Northing (metre)\n",
       "Area of Use:\n",
       "- name: World - N hemisphere - 150°W to 144°W - by country\n",
       "- bounds: (-150.0, 0.0, -144.0, 84.0)\n",
       "Coordinate Operation:\n",
       "- name: UTM zone 6N\n",
       "- method: Transverse Mercator\n",
       "Datum: World Geodetic System 1984\n",
       "- Ellipsoid: WGS 84\n",
       "- Prime Meridian: Greenwich"
      ]
     },
     "execution_count": 162,
     "metadata": {},
     "output_type": "execute_result"
    }
   ],
   "source": [
    "shapefile_latlon = shapefile\n",
    "shapefile.crs"
   ]
  },
  {
   "cell_type": "code",
   "execution_count": 163,
   "metadata": {},
   "outputs": [],
   "source": [
    "shapefile_latlon = shapefile.to_crs(epsg=4326)"
   ]
  },
  {
   "cell_type": "code",
   "execution_count": 164,
   "metadata": {},
   "outputs": [
    {
     "data": {
      "text/plain": [
       "<Geographic 2D CRS: EPSG:4326>\n",
       "Name: WGS 84\n",
       "Axis Info [ellipsoidal]:\n",
       "- Lat[north]: Geodetic latitude (degree)\n",
       "- Lon[east]: Geodetic longitude (degree)\n",
       "Area of Use:\n",
       "- name: World\n",
       "- bounds: (-180.0, -90.0, 180.0, 90.0)\n",
       "Datum: World Geodetic System 1984\n",
       "- Ellipsoid: WGS 84\n",
       "- Prime Meridian: Greenwich"
      ]
     },
     "execution_count": 164,
     "metadata": {},
     "output_type": "execute_result"
    }
   ],
   "source": [
    "shapefile_latlon.crs"
   ]
  },
  {
   "cell_type": "markdown",
   "metadata": {},
   "source": [
    "### Extract endpoints from each flightlien"
   ]
  },
  {
   "cell_type": "code",
   "execution_count": 165,
   "metadata": {},
   "outputs": [],
   "source": [
    "shapefile_latlon['points'] = shapefile_latlon.apply(lambda x: [y for y in x['geometry'].boundary], axis=1)"
   ]
  },
  {
   "cell_type": "code",
   "execution_count": 166,
   "metadata": {},
   "outputs": [
    {
     "data": {
      "text/html": [
       "<div>\n",
       "<style scoped>\n",
       "    .dataframe tbody tr th:only-of-type {\n",
       "        vertical-align: middle;\n",
       "    }\n",
       "\n",
       "    .dataframe tbody tr th {\n",
       "        vertical-align: top;\n",
       "    }\n",
       "\n",
       "    .dataframe thead th {\n",
       "        text-align: right;\n",
       "    }\n",
       "</style>\n",
       "<table border=\"1\" class=\"dataframe\">\n",
       "  <thead>\n",
       "    <tr style=\"text-align: right;\">\n",
       "      <th></th>\n",
       "      <th>Id</th>\n",
       "      <th>geometry</th>\n",
       "      <th>points</th>\n",
       "    </tr>\n",
       "  </thead>\n",
       "  <tbody>\n",
       "    <tr>\n",
       "      <th>0</th>\n",
       "      <td>0</td>\n",
       "      <td>LINESTRING (-147.49824 65.21203, -147.49664 65...</td>\n",
       "      <td>[POINT (-147.4982432859364 65.21203166853229),...</td>\n",
       "    </tr>\n",
       "    <tr>\n",
       "      <th>1</th>\n",
       "      <td>0</td>\n",
       "      <td>LINESTRING (-147.51869 65.21196, -147.51702 65...</td>\n",
       "      <td>[POINT (-147.5186882402178 65.21196252521337),...</td>\n",
       "    </tr>\n",
       "    <tr>\n",
       "      <th>2</th>\n",
       "      <td>0</td>\n",
       "      <td>LINESTRING (-147.47809 65.21218, -147.47655 65...</td>\n",
       "      <td>[POINT (-147.4780862500085 65.21218238798522),...</td>\n",
       "    </tr>\n",
       "    <tr>\n",
       "      <th>3</th>\n",
       "      <td>0</td>\n",
       "      <td>LINESTRING (-147.45710 65.21216, -147.45564 65...</td>\n",
       "      <td>[POINT (-147.4571036684693 65.21216237546902),...</td>\n",
       "    </tr>\n",
       "    <tr>\n",
       "      <th>4</th>\n",
       "      <td>0</td>\n",
       "      <td>LINESTRING (-147.54088 65.21188, -147.53914 65...</td>\n",
       "      <td>[POINT (-147.5408796616118 65.21188432719819),...</td>\n",
       "    </tr>\n",
       "  </tbody>\n",
       "</table>\n",
       "</div>"
      ],
      "text/plain": [
       "   Id                                           geometry  \\\n",
       "0   0  LINESTRING (-147.49824 65.21203, -147.49664 65...   \n",
       "1   0  LINESTRING (-147.51869 65.21196, -147.51702 65...   \n",
       "2   0  LINESTRING (-147.47809 65.21218, -147.47655 65...   \n",
       "3   0  LINESTRING (-147.45710 65.21216, -147.45564 65...   \n",
       "4   0  LINESTRING (-147.54088 65.21188, -147.53914 65...   \n",
       "\n",
       "                                              points  \n",
       "0  [POINT (-147.4982432859364 65.21203166853229),...  \n",
       "1  [POINT (-147.5186882402178 65.21196252521337),...  \n",
       "2  [POINT (-147.4780862500085 65.21218238798522),...  \n",
       "3  [POINT (-147.4571036684693 65.21216237546902),...  \n",
       "4  [POINT (-147.5408796616118 65.21188432719819),...  "
      ]
     },
     "execution_count": 166,
     "metadata": {},
     "output_type": "execute_result"
    }
   ],
   "source": [
    "shapefile_latlon"
   ]
  },
  {
   "cell_type": "code",
   "execution_count": 167,
   "metadata": {},
   "outputs": [],
   "source": [
    "endpointlist = [ pt for flightline in shapefile_latlon['geometry'] for pt in flightline.boundary]\n",
    "endpoints = gp.GeoSeries(endpointlist)"
   ]
  },
  {
   "cell_type": "markdown",
   "metadata": {},
   "source": [
    "### Re-order endpoints"
   ]
  },
  {
   "cell_type": "markdown",
   "metadata": {},
   "source": [
    "The endpoints are likely to be in the wrong order for use in in-flight GPS. In this section we can inspect and re-order."
   ]
  },
  {
   "cell_type": "code",
   "execution_count": 168,
   "metadata": {
    "scrolled": true
   },
   "outputs": [
    {
     "data": {
      "image/png": "[encoded data removed]",
      "text/plain": [
       "<Figure size 432x288 with 1 Axes>"
      ]
     },
     "metadata": {
      "needs_background": "light"
     },
     "output_type": "display_data"
    }
   ],
   "source": [
    "ax = endpoints.plot()\n",
    "shapefile_latlon.plot(ax=ax)\n",
    "ax.set_aspect(2)\n",
    "bottom, top = ax.get_ylim()\n",
    "left, right = ax.get_xlim()\n",
    "ax.set_ylim(bottom - 0.01, top + 0.01)\n",
    "ax.set_xlim(left - 0.02, right + 0.02)\n",
    "for idx, pt in enumerate(endpoints):\n",
    "    ax.annotate(str(idx+1), xy=(pt.x, pt.y), xytext=(1, 3), textcoords=\"offset points\")"
   ]
  },
  {
   "cell_type": "markdown",
   "metadata": {},
   "source": [
    "Enter a list using the above indices in the desired order. "
   ]
  },
  {
   "cell_type": "code",
   "execution_count": 169,
   "metadata": {},
   "outputs": [],
   "source": [
    "neworder = [9, 10, 4, 3, 1, 2, 6, 5, 7, 8]\n",
    "\n",
    "########### validation ####################\n",
    "if (len(neworder) != len(endpointlist) or set(neworder) != set(list(range(1, len(endpointlist)+1)))):\n",
    "    raise Exception(f\"The neworder variable must be a permutation of {str(list(range(1, len(endpointlist)+1)))}\")"
   ]
  },
  {
   "cell_type": "markdown",
   "metadata": {},
   "source": [
    "### Visualize and export new points as GPX file"
   ]
  },
  {
   "cell_type": "code",
   "execution_count": 170,
   "metadata": {},
   "outputs": [],
   "source": [
    "newpointlist = [endpointlist[ii-1] for ii in neworder ]\n",
    "newpoints = gp.GeoSeries(newpointlist)\n",
    "flightconnector = gp.GeoSeries(LineString(newpointlist))"
   ]
  },
  {
   "cell_type": "markdown",
   "metadata": {},
   "source": [
    "The following is to check that the new order of flightline endpoints is as desired. If not, return to the previous step. "
   ]
  },
  {
   "cell_type": "code",
   "execution_count": 171,
   "metadata": {},
   "outputs": [
    {
     "data": {
      "image/png": "[encoded data removed]",
      "text/plain": [
       "<Figure size 432x288 with 1 Axes>"
      ]
     },
     "metadata": {
      "needs_background": "light"
     },
     "output_type": "display_data"
    }
   ],
   "source": [
    "ax = newpoints.plot()\n",
    "flightconnector.plot(ax=ax, color='r')\n",
    "shapefile_latlon.plot(ax=ax)\n",
    "ax.set_aspect(2)\n",
    "bottom, top = ax.get_ylim()\n",
    "left, right = ax.get_xlim()\n",
    "ax.set_ylim(bottom - 0.01, top + 0.01)\n",
    "ax.set_xlim(left - 0.02, right + 0.02)\n",
    "for idx, pt in enumerate(newpoints):\n",
    "    ax.annotate(str(idx+1), xy=(pt.x, pt.y), xytext=(4, 4), textcoords=\"offset points\")\n"
   ]
  },
  {
   "cell_type": "code",
   "execution_count": 172,
   "metadata": {},
   "outputs": [
    {
     "data": {
      "text/plain": [
       "[('CPC00', 65.21188432719819, -147.5408796616118),\n",
       " ('CPC01', 65.12643046214588, -147.53914341445014),\n",
       " ('CPC02', 65.12650835627535, -147.51702331577795),\n",
       " ('CPC03', 65.21196252521337, -147.5186882402178),\n",
       " ('CPC04', 65.21203166853229, -147.4982432859364),\n",
       " ('CPC05', 65.12657723090261, -147.49664407199455),\n",
       " ('CPC06', 65.1267276970154, -147.47655181600533),\n",
       " ('CPC07', 65.21218238798522, -147.47808625000846),\n",
       " ('CPC08', 65.21216237546902, -147.4571036684693),\n",
       " ('CPC09', 65.12670742995422, -147.45563668051724)]"
      ]
     },
     "execution_count": 172,
     "metadata": {},
     "output_type": "execute_result"
    }
   ],
   "source": [
    "def get_flightcoords(pointlist, prefix=prefix):\n",
    "    return [(f\"{prefix}{str(ii).zfill(2)}\", pt.y, pt.x)\n",
    "             for ii, pt in enumerate(pointlist)]\n",
    "get_flightcoords(newpointlist)"
   ]
  },
  {
   "cell_type": "code",
   "execution_count": 173,
   "metadata": {},
   "outputs": [],
   "source": [
    "def get_gpx(flightpoints):\n",
    "\n",
    "    ele = 0\n",
    "    gpx_prefix = \"\"\"<?xml version=\"1.0\" encoding=\"utf-8\" standalone=\"yes\"?>\n",
    "    <gpx version=\"1.1\" creator=\"Alaska EPSCoR Fire and Ice https://epscor.alaska.edu/\" xmlns=\"http://www.topografix.com/GPX/1/1\" xmlns:xsi=\"http://www.w3.org/2001/XMLSchema-instance\" xsi:schemaLocation=\"http://www.topografix.com/GPX/1/1 http://www.topografix.com/GPX/1/1/gpx.xsd\">\n",
    "    \"\"\"\n",
    "    gpx_suffix = \"</gpx>\"\n",
    "    gpx_output = [gpx_prefix]\n",
    "\n",
    "    for wptname, lat, lon in flightpoints:\n",
    "        gpx_item = f\"\"\"<wpt lat=\"{lat}\" lon=\"{lon}\">\n",
    "      <ele>{ele}</ele>\n",
    "      <name>{wptname}</name>\n",
    "    </wpt>\"\"\"\n",
    "        gpx_output.append(gpx_item)\n",
    "    gpx_output.append(gpx_suffix)\n",
    "    return gpx_output"
   ]
  },
  {
   "cell_type": "code",
   "execution_count": 174,
   "metadata": {},
   "outputs": [
    {
     "name": "stdout",
     "output_type": "stream",
     "text": [
      "<?xml version=\"1.0\" encoding=\"utf-8\" standalone=\"yes\"?>\n",
      "    <gpx version=\"1.1\" creator=\"Alaska EPSCoR Fire and Ice https://epscor.alaska.edu/\" xmlns=\"http://www.topografix.com/GPX/1/1\" xmlns:xsi=\"http://www.w3.org/2001/XMLSchema-instance\" xsi:schemaLocation=\"http://www.topografix.com/GPX/1/1 http://www.topografix.com/GPX/1/1/gpx.xsd\">\n",
      "    \n",
      "<wpt lat=\"65.21188432719819\" lon=\"-147.5408796616118\">\n",
      "      <ele>0</ele>\n",
      "      <name>CPC00</name>\n",
      "    </wpt>\n",
      "<wpt lat=\"65.12643046214588\" lon=\"-147.53914341445014\">\n",
      "      <ele>0</ele>\n",
      "      <name>CPC01</name>\n",
      "    </wpt>\n",
      "<wpt lat=\"65.12650835627535\" lon=\"-147.51702331577795\">\n",
      "      <ele>0</ele>\n",
      "      <name>CPC02</name>\n",
      "    </wpt>\n",
      "<wpt lat=\"65.21196252521337\" lon=\"-147.5186882402178\">\n",
      "      <ele>0</ele>\n",
      "      <name>CPC03</name>\n",
      "    </wpt>\n",
      "<wpt lat=\"65.21203166853229\" lon=\"-147.4982432859364\">\n",
      "      <ele>0</ele>\n",
      "      <name>CPC04</name>\n",
      "    </wpt>\n",
      "<wpt lat=\"65.12657723090261\" lon=\"-147.49664407199455\">\n",
      "      <ele>0</ele>\n",
      "      <name>CPC05</name>\n",
      "    </wpt>\n",
      "<wpt lat=\"65.1267276970154\" lon=\"-147.47655181600533\">\n",
      "      <ele>0</ele>\n",
      "      <name>CPC06</name>\n",
      "    </wpt>\n",
      "<wpt lat=\"65.21218238798522\" lon=\"-147.47808625000846\">\n",
      "      <ele>0</ele>\n",
      "      <name>CPC07</name>\n",
      "    </wpt>\n",
      "<wpt lat=\"65.21216237546902\" lon=\"-147.4571036684693\">\n",
      "      <ele>0</ele>\n",
      "      <name>CPC08</name>\n",
      "    </wpt>\n",
      "<wpt lat=\"65.12670742995422\" lon=\"-147.45563668051724\">\n",
      "      <ele>0</ele>\n",
      "      <name>CPC09</name>\n",
      "    </wpt>\n",
      "</gpx>\n"
     ]
    }
   ],
   "source": [
    "gpx_output = get_gpx(get_flightcoords(newpointlist))\n",
    "print('\\n'.join(gpx_output))"
   ]
  },
  {
   "cell_type": "code",
   "execution_count": 175,
   "metadata": {},
   "outputs": [],
   "source": [
    "filename = f'{prefix}_2020_SP.gpx'\n",
    "outpath = os.path.join('output/', filename)\n",
    "with open(outpath, 'w') as dst:\n",
    "    dst.write('\\n'.join(gpx_output))"
   ]
  },
  {
   "cell_type": "code",
   "execution_count": null,
   "metadata": {},
   "outputs": [],
   "source": []
  }
 ],
 "metadata": {
  "kernelspec": {
   "display_name": "Python 3",
   "language": "python",
   "name": "python3"
  },
  "language_info": {
   "codemirror_mode": {
    "name": "ipython",
    "version": 3
   },
   "file_extension": ".py",
   "mimetype": "text/x-python",
   "name": "python",
   "nbconvert_exporter": "python",
   "pygments_lexer": "ipython3",
   "version": "3.6.10"
  }
 },
 "nbformat": 4,
 "nbformat_minor": 4
}
