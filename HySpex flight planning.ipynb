{
 "cells": [
  {
   "cell_type": "markdown",
   "metadata": {},
   "source": [
    "### Purpose of this document"
   ]
  },
  {
   "cell_type": "markdown",
   "metadata": {},
   "source": [
    "You're looking at a Jupyter Notebook. This is an interactive script. It can be run in the browser either online or by downloading the `.ipynb` file and then running the command `jupyter notebook` from the command line. It requires Python 3."
   ]
  },
  {
   "cell_type": "markdown",
   "metadata": {},
   "source": [
    "Each code cell is editable. You run them in sequence, by typing `shift-enter`. Please only edit the cells in the sections that contain variables. You can make changes, run the notebook cells, check the output, then make changes again, re-run... "
   ]
  },
  {
   "cell_type": "markdown",
   "metadata": {},
   "source": [
    "#### Importing some libraries, and other preparations, for later use"
   ]
  },
  {
   "cell_type": "code",
   "execution_count": 22,
   "metadata": {},
   "outputs": [],
   "source": [
    "import os\n",
    "import math\n",
    "import csv\n",
    "from io import StringIO"
   ]
  },
  {
   "cell_type": "markdown",
   "metadata": {},
   "source": [
    "## Part 1: Flight height and ground-sampling distance (GSD)"
   ]
  },
  {
   "cell_type": "markdown",
   "metadata": {},
   "source": [
    "#### Variables - change only these "
   ]
  },
  {
   "cell_type": "markdown",
   "metadata": {},
   "source": [
    "Configuration options are: 'HySpex Husky WITH FEX', 'HySpex WITHOUT field extender', 'HySpex WITH field extender', 'HySpex WITH FEX AND FLIR'."
   ]
  },
  {
   "cell_type": "code",
   "execution_count": 2,
   "metadata": {},
   "outputs": [],
   "source": [
    "config_option = 'HySpex Husky WITH FEX'\n",
    "\n",
    "## code below is for validation purposes\n",
    "config_variants = 'HySpex Husky WITH FEX', 'HySpex WITHOUT field extender', 'HySpex WITH field extender', 'HySpex WITH FEX AND FLIR'\n",
    "if config_option not in config_variants:\n",
    "    raise Exception(\"Please select a valid configuration from the options.\")"
   ]
  },
  {
   "cell_type": "markdown",
   "metadata": {},
   "source": [
    "Enter flying height above mean sea level (ASL) in feet and flight speed in km/h."
   ]
  },
  {
   "cell_type": "code",
   "execution_count": 3,
   "metadata": {},
   "outputs": [],
   "source": [
    "flying_ASL_ft = 7500\n",
    "flying_speed_kmph = 150"
   ]
  },
  {
   "cell_type": "markdown",
   "metadata": {},
   "source": [
    "Enter highest and lowest elevation in target area in feet:"
   ]
  },
  {
   "cell_type": "code",
   "execution_count": 4,
   "metadata": {},
   "outputs": [],
   "source": [
    "ele_max_ft = 2790\n",
    "ele_min_ft = 500"
   ]
  },
  {
   "cell_type": "markdown",
   "metadata": {},
   "source": [
    "#### Constants - **these should not need changing**"
   ]
  },
  {
   "cell_type": "markdown",
   "metadata": {},
   "source": [
    "Let's first deal with the HySpex configuration in the aircraft"
   ]
  },
  {
   "cell_type": "code",
   "execution_count": 6,
   "metadata": {},
   "outputs": [],
   "source": [
    "hyspex_csvstr = \"\"\"Camera setup,X pixels,Y pixels,HFOV for swath,IFOV for VNIR GSD,IFOV for SWIR GSD\n",
    "HySpex WITHOUT field extender,1800,1,0.28032,0.00032,0.00073\n",
    "HySpex WITH field extender,1800,1,0.56064,0.00067,0.00146\n",
    "HySpex WITH FEX AND FLIR,1800,1,0.436332312998582,0.00067,0.00146\n",
    "HySpex Husky WITH FEX,1550,1,0.517575,0.00067,0.00146\"\"\"\n",
    "\n",
    "reader = csv.DictReader(StringIO(hyspex_csvstr))\n",
    "hyspex_dict = {rows.pop('Camera setup'):rows for rows in reader}\n",
    "\n",
    "hfov_swath = float(hyspex_dict[config_option]['HFOV for swath'])\n",
    "ifov_vnir = float(hyspex_dict[config_option]['IFOV for VNIR GSD'])\n",
    "ifov_swir = float(hyspex_dict[config_option]['IFOV for SWIR GSD'])"
   ]
  },
  {
   "cell_type": "code",
   "execution_count": 7,
   "metadata": {},
   "outputs": [],
   "source": [
    "meter_to_feet = 3.28083989501312        # conversion meters to feet\n",
    "kmph_to_mph = 0.621371\n",
    "kmph_to_knots = 0.539957"
   ]
  },
  {
   "cell_type": "markdown",
   "metadata": {},
   "source": [
    "#### GSD check"
   ]
  },
  {
   "cell_type": "markdown",
   "metadata": {},
   "source": [
    "Enter the target ground-sampling distance (GSD) in m. "
   ]
  },
  {
   "cell_type": "code",
   "execution_count": 8,
   "metadata": {},
   "outputs": [
    {
     "name": "stdout",
     "output_type": "stream",
     "text": [
      "To attain your planned GSD, you should fly no higher than 746.3 m (or 2448.4 ft)\n"
     ]
    }
   ],
   "source": [
    "target_GSD_VNIR = 0.5\n",
    "\n",
    "# Calculations\n",
    "flying_height_AGL_target = target_GSD_VNIR / ifov_vnir\n",
    "\n",
    "print(f\"To attain your planned GSD, you should fly no higher than {flying_height_AGL_target:.1f} m (or {flying_height_AGL_target * meter_to_feet:.1f} ft)\")"
   ]
  },
  {
   "cell_type": "markdown",
   "metadata": {},
   "source": [
    "#### Derived quantities"
   ]
  },
  {
   "cell_type": "markdown",
   "metadata": {},
   "source": [
    "You should normally not edit the following. Edit the original quantities in the previous section. "
   ]
  },
  {
   "cell_type": "code",
   "execution_count": 9,
   "metadata": {},
   "outputs": [
    {
     "name": "stdout",
     "output_type": "stream",
     "text": [
      "*** Flight parameters\n",
      "Flying height above sea level (ASL) in m: \t\t 2286.0\n",
      "Minimum flying height above ground level (AGL) in ft: \t 4710.0\n",
      "Minimum flying height above ground level (AGL) in m: \t 1435.6\n",
      "Maximum flying height above ground level (AGL) in ft: \t 7000.0\n",
      "Maximum flying height above ground level (AGL) in m: \t 2133.6\n",
      "Minimum elevation AGL in target area in m: \t\t 152.4\n",
      "Maximum elevation AGL in target area in m: \t\t 850.4\n",
      "Flying speed in mph: \t\t\t\t\t 93.2\n",
      "Flying speed in knots: \t\t\t\t\t 81.0\n",
      "\n",
      "*** Swath parameters\n",
      "Swath width (max) in m: \t\t\t\t 1104.3\n",
      "Swath width (min) in m: \t\t\t\t 743.0\n",
      "Max swath width with 40% sidelap in m: \t\t\t 662.6\n",
      "\n",
      "*** Pixel size parameters\n",
      "VNIR GSD (min) in m: \t\t\t\t\t 1.0\n",
      "VNIR GSD (max) in m: \t\t\t\t\t 1.4\n",
      "SWIR GSD (min) in m: \t\t\t\t\t 2.1\n",
      "SWIR GSD (max) in m: \t\t\t\t\t 3.1\n"
     ]
    }
   ],
   "source": [
    "flying_ASL_m = flying_ASL_ft / meter_to_feet\n",
    "flying_AGL_ft_min = flying_ASL_ft - ele_max_ft\n",
    "flying_AGL_ft_max = flying_ASL_ft - ele_min_ft\n",
    "flying_AGL_m_min = flying_AGL_ft_min / meter_to_feet\n",
    "flying_AGL_m_max = flying_AGL_ft_max / meter_to_feet\n",
    "ele_min_m = ele_min_ft / meter_to_feet\n",
    "ele_max_m = ele_max_ft / meter_to_feet\n",
    "\n",
    "################\n",
    "\n",
    "print(\"*** Flight parameters\")\n",
    "print(f\"Flying height above sea level (ASL) in m: \\t\\t {flying_ASL_m:.1f}\")\n",
    "print(f\"Minimum flying height above ground level (AGL) in ft: \\t {flying_AGL_ft_min:.1f}\")\n",
    "print(f\"Minimum flying height above ground level (AGL) in m: \\t {flying_AGL_m_min:.1f}\")\n",
    "print(f\"Maximum flying height above ground level (AGL) in ft: \\t {flying_AGL_ft_max:.1f}\")\n",
    "print(f\"Maximum flying height above ground level (AGL) in m: \\t {flying_AGL_m_max:.1f}\")\n",
    "print(f\"Minimum elevation AGL in target area in m: \\t\\t {ele_min_m:.1f}\")\n",
    "print(f\"Maximum elevation AGL in target area in m: \\t\\t {ele_max_m:.1f}\")\n",
    "print(f\"Flying speed in mph: \\t\\t\\t\\t\\t {flying_speed_kmph * kmph_to_mph:.1f}\")\n",
    "print(f\"Flying speed in knots: \\t\\t\\t\\t\\t {flying_speed_kmph * kmph_to_knots:.1f}\")\n",
    "print()\n",
    "print(f\"*** Pixel size parameters\")\n",
    "print(f\"VNIR GSD (min) in m: \\t\\t\\t\\t\\t {flying_AGL_m_min*ifov_vnir:.1f}\")\n",
    "print(f\"VNIR GSD (max) in m: \\t\\t\\t\\t\\t {flying_AGL_m_max*ifov_vnir:.1f}\")\n",
    "print(f\"SWIR GSD (min) in m: \\t\\t\\t\\t\\t {flying_AGL_m_min*ifov_swir:.1f}\")\n",
    "print(f\"SWIR GSD (max) in m: \\t\\t\\t\\t\\t {flying_AGL_m_max*ifov_swir:.1f}\")\n"
   ]
  },
  {
   "cell_type": "markdown",
   "metadata": {},
   "source": [
    "## Part 2: Swath and flightlines"
   ]
  },
  {
   "cell_type": "markdown",
   "metadata": {},
   "source": [
    "### Target area"
   ]
  },
  {
   "cell_type": "markdown",
   "metadata": {},
   "source": [
    "Enter flightline parameters. Start point is the start point of the first flightline. It can be in the NW, NE, SW, SE corner of the target area. First flightline direction can be N, S, E, W. "
   ]
  },
  {
   "cell_type": "code",
   "execution_count": 25,
   "metadata": {},
   "outputs": [],
   "source": [
    "flightline_length_km = 14\n",
    "number_flightlines = 27\n",
    "side_lap_percent = 40\n",
    "start_corner = 'NW'\n",
    "initial_direction = 'S'\n",
    "\n",
    "\n",
    "## code below is for validation purposes\n",
    "valid_directions = {\n",
    "    'NW': ['S', 'E'],\n",
    "    'NE': ['S', 'W'],\n",
    "    'SW': ['N', 'E'],\n",
    "    'SE': ['N', 'W']\n",
    "}\n",
    "try:\n",
    "    if initial_direction not in valid_directions[start_corner]:\n",
    "        raise Exception(\"Invalid initial direction\")\n",
    "except KeyError:\n",
    "    raise Exception(\"Invalid start corner\")"
   ]
  },
  {
   "cell_type": "code",
   "execution_count": 26,
   "metadata": {},
   "outputs": [
    {
     "name": "stdout",
     "output_type": "stream",
     "text": [
      "\n",
      "*** Swath parameters\n",
      "Swath width (max) in m: \t\t\t\t 1104.3\n",
      "Swath width (min) in m: \t\t\t\t 743.0\n",
      "Max swath width with 40% sidelap in m: \t\t\t 662.6\n"
     ]
    }
   ],
   "source": [
    "swath_width = flying_AGL_m_max * hfov_swath\n",
    "swath_max_with_sidelap = swath_width * (100 - side_lap_percent) / 100\n",
    "\n",
    "print()\n",
    "print(\"*** Swath parameters\")\n",
    "print(f\"Swath width (max) in m: \\t\\t\\t\\t {swath_width:.1f}\")\n",
    "print(f\"Swath width (min) in m: \\t\\t\\t\\t {flying_AGL_m_min * hfov_swath:.1f}\")\n",
    "print(f\"Max swath width with 40% sidelap in m: \\t\\t\\t {swath_max_with_sidelap:.1f}\")"
   ]
  },
  {
   "cell_type": "markdown",
   "metadata": {},
   "source": [
    "You don't *have* to edit the following, but in case the terrain is very rugged you may want to change the distance of the flightlines. "
   ]
  },
  {
   "cell_type": "code",
   "execution_count": 27,
   "metadata": {},
   "outputs": [
    {
     "name": "stdout",
     "output_type": "stream",
     "text": [
      "The flightline distance has been set to: 662.6 m\n",
      "From this we derive the following target area:\n",
      "Length of target area in flight direction: 14.0 km\n",
      "Width of target area across flight direction: 18.3 km\n",
      "Area covered: 256.6 sq km\n"
     ]
    }
   ],
   "source": [
    "flightline_dist_m = swath_max_with_sidelap\n",
    "\n",
    "################## \n",
    "target_area_width_km = ((number_flightlines - 1.) * flightline_dist_m + swath_width) / 1000\n",
    "print(f\"The flightline distance has been set to: {flightline_dist_m:.1f} m\")\n",
    "print(f\"From this we derive the following target area:\")\n",
    "print(f\"Length of target area in flight direction: {flightline_length_km:.1f} km\")\n",
    "print(f\"Width of target area across flight direction: {target_area_width_km:.1f} km\")\n",
    "print(f\"Area covered: {flightline_length_km*target_area_width_km:.1f} sq km\")"
   ]
  },
  {
   "cell_type": "markdown",
   "metadata": {},
   "source": [
    "At this stage, you might want to go back and change your initial parameters. "
   ]
  },
  {
   "cell_type": "markdown",
   "metadata": {},
   "source": [
    "### Flightline endpoints ready for GPS"
   ]
  },
  {
   "cell_type": "markdown",
   "metadata": {},
   "source": [
    "Enter your start latitude and longitude:"
   ]
  },
  {
   "cell_type": "code",
   "execution_count": 11,
   "metadata": {},
   "outputs": [],
   "source": [
    "lat0 = 65.248\n",
    "lon0 = -147.692"
   ]
  },
  {
   "cell_type": "markdown",
   "metadata": {},
   "source": [
    "First we define a series of helper functions:\n",
    "  * to calculate new lat/lon based on old lat/lon, distance in km, and bearing in degrees\n",
    "  * to set parameters for bearing of the flightline segments based on starting point and direction\n",
    "  * to produce the list of waypoints for the start and end of the flightlines (\"flightpoints\")\n",
    "  * to convert such a list to GPX (XML format)"
   ]
  },
  {
   "cell_type": "code",
   "execution_count": 23,
   "metadata": {},
   "outputs": [],
   "source": [
    "R = 6378.1 # Radius of the Earth in km\n",
    "\n",
    "def next_point(lat, lon, dist_km, bearing_deg):  \n",
    "    lat1 = math.radians(lat)\n",
    "    lon1 = math.radians(lon)\n",
    "    lat2 = math.asin( \n",
    "        math.sin(lat1) * math.cos(dist_km/R) + \n",
    "        math.cos(lat1) * math.sin(dist_km/R) * math.cos(math.radians(bearing_deg)))\n",
    "    lon2 = lon1 + math.atan2(\n",
    "        math.sin(math.radians(bearing_deg)) * math.sin(dist_km/R) * math.cos(lat1), \n",
    "        math.cos(dist_km/R) - math.sin(lat1) * math.sin(lat2))\n",
    "\n",
    "    return math.degrees(lat2), math.degrees(lon2)\n",
    "\n",
    "def get_para(initial_direction, start_corner):\n",
    "    flipflop_dict = {\n",
    "        'E': {\n",
    "            'j': 1,\n",
    "            'a': 90,\n",
    "            },\n",
    "        'W': {\n",
    "            'j': 0,\n",
    "            'a': 90,\n",
    "            },\n",
    "        'N': {\n",
    "            'j': 1,\n",
    "            'a': 0,\n",
    "            },\n",
    "        'S': {\n",
    "            'j': 0,\n",
    "            'a': 0,\n",
    "            },\n",
    "    }\n",
    "    progress_dict = {\n",
    "        'EW': {\n",
    "            'N': 180,\n",
    "            'S': 0,\n",
    "            },\n",
    "        'NS': {\n",
    "            'W': 90,\n",
    "            'E': 270\n",
    "        }\n",
    "    }\n",
    "    gen_dict = {\n",
    "        'E': 'EW',\n",
    "        'W': 'EW',\n",
    "        'N': 'NS',\n",
    "        'S': 'NS'\n",
    "    }\n",
    "    try:\n",
    "        c = progress_dict[gen_dict[initial_direction]][start_corner[0]]\n",
    "    except KeyError:\n",
    "        c = progress_dict[gen_dict[initial_direction]][start_corner[1]]\n",
    "    return flipflop_dict[initial_direction]['j'], flipflop_dict[initial_direction]['a'], c\n",
    "\n",
    "\n",
    "def get_flightpoints(lat0=lat0, lon0=lon0, \n",
    "                     initial_direction=initial_direction, start_corner=start_corner,\n",
    "                     number_flightlines=number_flightlines,\n",
    "                     flightline_length_km=flightline_length_km,\n",
    "                     prefix='PT'):\n",
    "    flightpoints = [(prefix+\"00\", lat0, lon0)]\n",
    "    jj, a, c = get_para(initial_direction, start_corner)\n",
    "    for ii in range(1, number_flightlines):\n",
    "        new_bearing = a + 180 * (ii + jj)\n",
    "        newlat, newlon = next_point(*flightpoints[-1][1:], flightline_length_km, new_bearing)\n",
    "        flightpoints.append((f\"{prefix}{str(2*ii-1).zfill(2)}\", newlat, newlon))\n",
    "        new_bearing = c\n",
    "        newlat, newlon = next_point(*flightpoints[-1][1:], flightline_dist_m/1000, new_bearing)\n",
    "        flightpoints.append((f\"{prefix}{str(2*ii).zfill(2)}\", newlat, newlon))\n",
    "    return flightpoints[:-1]"
   ]
  },
  {
   "cell_type": "code",
   "execution_count": 18,
   "metadata": {},
   "outputs": [
    {
     "data": {
      "text/plain": [
       "(0, 90, 0)"
      ]
     },
     "execution_count": 18,
     "metadata": {},
     "output_type": "execute_result"
    }
   ],
   "source": [
    "get_para('W', 'SE')"
   ]
  },
  {
   "cell_type": "code",
   "execution_count": 24,
   "metadata": {},
   "outputs": [
    {
     "data": {
      "text/plain": [
       "[('PT00', 65.248, -147.692),\n",
       " ('PT01', 65.12223513065285, -147.692),\n",
       " ('PT02', 65.12223446394457, -147.6778514127303),\n",
       " ('PT03', 65.24799933329173, -147.6778514127303),\n",
       " ('PT04', 65.2479986627307, -147.66363549981094),\n",
       " ('PT05', 65.12223379338353, -147.66363549981094),\n",
       " ('PT06', 65.12223312667528, -147.64948691325336),\n",
       " ('PT07', 65.24799799602243, -147.64948691325336),\n",
       " ('PT08', 65.24799732546145, -147.63527100105364),\n",
       " ('PT09', 65.1222324561143, -147.63527100105364),\n",
       " ('PT10', 65.1222317894061, -147.62112241520816),\n",
       " ('PT11', 65.24799665875325, -147.62112241520816),\n",
       " ('PT12', 65.2479959881923, -147.6069065037281),\n",
       " ('PT13', 65.12223111884515, -147.6069065037281),\n",
       " ('PT14', 65.12223045213698, -147.5927579185948),\n",
       " ('PT15', 65.24799532148413, -147.5927579185948),\n",
       " ('PT16', 65.24799465092323, -147.5785420078344),\n",
       " ('PT17', 65.12222978157607, -147.5785420078344),\n",
       " ('PT18', 65.12222911486793, -147.5643934234132),\n",
       " ('PT19', 65.2479939842151, -147.5643934234132),\n",
       " ('PT20', 65.24799331365425, -147.55017751337246),\n",
       " ('PT21', 65.12222844430708, -147.55017751337246),\n",
       " ('PT22', 65.122227777599, -147.5360289296634),\n",
       " ('PT23', 65.24799264694616, -147.5360289296634),\n",
       " ('PT24', 65.24799197638535, -147.5218130203423),\n",
       " ('PT25', 65.12222710703819, -147.52181302034234),\n",
       " ('PT26', 65.12222644033012, -147.50766443734543),\n",
       " ('PT27', 65.2479913096773, -147.50766443734543),\n",
       " ('PT28', 65.24799063911654, -147.49344852874398),\n",
       " ('PT29', 65.12222576976937, -147.49344852874398),\n",
       " ('PT30', 65.12222510306135, -147.4792999464592),\n",
       " ('PT31', 65.24798997240853, -147.47929994645924),\n",
       " ('PT32', 65.24798930184778, -147.46508403857746),\n",
       " ('PT33', 65.12222443250062, -147.46508403857746),\n",
       " ('PT34', 65.12222376579265, -147.4509354570048),\n",
       " ('PT35', 65.24798863513982, -147.4509354570048),\n",
       " ('PT36', 65.24798796457912, -147.43671954984265),\n",
       " ('PT37', 65.12222309523196, -147.43671954984265),\n",
       " ('PT38', 65.12222242852404, -147.42257096898211),\n",
       " ('PT39', 65.24798729787119, -147.42257096898211),\n",
       " ('PT40', 65.24798662731054, -147.40835506253964),\n",
       " ('PT41', 65.12222175796337, -147.40835506253964),\n",
       " ('PT42', 65.1222210912555, -147.39420648239124),\n",
       " ('PT43', 65.24798596060266, -147.39420648239124),\n",
       " ('PT44', 65.24798529004204, -147.37999057666843),\n",
       " ('PT45', 65.12222042069489, -147.37999057666843),\n",
       " ('PT46', 65.12221975398704, -147.36584199723214),\n",
       " ('PT47', 65.24798462333419, -147.36584199723214),\n",
       " ('PT48', 65.24798395277361, -147.35162609222897),\n",
       " ('PT49', 65.12221908342644, -147.35162609222897),\n",
       " ('PT50', 65.12221841671865, -147.3374775135048),\n",
       " ('PT51', 65.2479832860658, -147.3374775135048)]"
      ]
     },
     "execution_count": 24,
     "metadata": {},
     "output_type": "execute_result"
    }
   ],
   "source": [
    "get_flightpoints()"
   ]
  },
  {
   "cell_type": "code",
   "execution_count": 32,
   "metadata": {},
   "outputs": [
    {
     "name": "stdout",
     "output_type": "stream",
     "text": [
      "PT00,65.248,-147.692\n",
      "PT01,65.12223513065285,-147.692\n",
      "PT02,65.12223446394457,-147.6778514127303\n",
      "PT03,65.24799933329173,-147.6778514127303\n",
      "PT04,65.2479986627307,-147.66363549981094\n",
      "PT05,65.12223379338353,-147.66363549981094\n",
      "PT06,65.12223312667528,-147.64948691325336\n",
      "PT07,65.24799799602243,-147.64948691325336\n",
      "PT08,65.24799732546145,-147.63527100105364\n",
      "PT09,65.1222324561143,-147.63527100105364\n",
      "PT10,65.1222317894061,-147.62112241520816\n",
      "PT11,65.24799665875325,-147.62112241520816\n",
      "PT12,65.2479959881923,-147.6069065037281\n",
      "PT13,65.12223111884515,-147.6069065037281\n",
      "PT14,65.12223045213698,-147.5927579185948\n",
      "PT15,65.24799532148413,-147.5927579185948\n",
      "PT16,65.24799465092323,-147.5785420078344\n",
      "PT17,65.12222978157607,-147.5785420078344\n",
      "PT18,65.12222911486793,-147.5643934234132\n",
      "PT19,65.2479939842151,-147.5643934234132\n",
      "PT20,65.24799331365425,-147.55017751337246\n",
      "PT21,65.12222844430708,-147.55017751337246\n",
      "PT22,65.122227777599,-147.5360289296634\n",
      "PT23,65.24799264694616,-147.5360289296634\n",
      "PT24,65.24799197638535,-147.5218130203423\n",
      "PT25,65.12222710703819,-147.52181302034234\n",
      "PT26,65.12222644033012,-147.50766443734543\n",
      "PT27,65.2479913096773,-147.50766443734543\n",
      "PT28,65.24799063911654,-147.49344852874398\n",
      "PT29,65.12222576976937,-147.49344852874398\n",
      "PT30,65.12222510306135,-147.4792999464592\n",
      "PT31,65.24798997240853,-147.47929994645924\n",
      "PT32,65.24798930184778,-147.46508403857746\n",
      "PT33,65.12222443250062,-147.46508403857746\n",
      "PT34,65.12222376579265,-147.4509354570048\n",
      "PT35,65.24798863513982,-147.4509354570048\n",
      "PT36,65.24798796457912,-147.43671954984265\n",
      "PT37,65.12222309523196,-147.43671954984265\n",
      "PT38,65.12222242852404,-147.42257096898211\n",
      "PT39,65.24798729787119,-147.42257096898211\n",
      "PT40,65.24798662731054,-147.40835506253964\n",
      "PT41,65.12222175796337,-147.40835506253964\n",
      "PT42,65.1222210912555,-147.39420648239124\n",
      "PT43,65.24798596060266,-147.39420648239124\n",
      "PT44,65.24798529004204,-147.37999057666843\n",
      "PT45,65.12222042069489,-147.37999057666843\n",
      "PT46,65.12221975398704,-147.36584199723214\n",
      "PT47,65.24798462333419,-147.36584199723214\n",
      "PT48,65.24798395277361,-147.35162609222897\n",
      "PT49,65.12221908342644,-147.35162609222897\n",
      "PT50,65.12221841671865,-147.3374775135048\n",
      "PT51,65.2479832860658,-147.3374775135048\n"
     ]
    }
   ],
   "source": [
    "flightpoints = get_flightpoints()\n",
    "print('\\n'.join([f\"{pt[0]},{pt[1]},{pt[2]}\" for pt in flightpoints]))"
   ]
  },
  {
   "cell_type": "code",
   "execution_count": 33,
   "metadata": {
    "scrolled": false
   },
   "outputs": [],
   "source": [
    "def get_gpx(flightpoints):\n",
    "\n",
    "    ele = 0\n",
    "    gpx_prefix = \"\"\"<?xml version=\"1.0\" encoding=\"utf-8\" standalone=\"yes\"?>\n",
    "    <gpx version=\"1.1\" creator=\"Alaska EPSCoR Fire and Ice https://epscor.alaska.edu/\" xmlns=\"http://www.topografix.com/GPX/1/1\" xmlns:xsi=\"http://www.w3.org/2001/XMLSchema-instance\" xsi:schemaLocation=\"http://www.topografix.com/GPX/1/1 http://www.topografix.com/GPX/1/1/gpx.xsd\">\n",
    "    \"\"\"\n",
    "    gpx_suffix = \"</gpx>\"\n",
    "    gpx_output = [gpx_prefix]\n",
    "\n",
    "    for wptname, lat, lon in flightpoints:\n",
    "        gpx_item = f\"\"\"<wpt lat=\"{lat}\" lon=\"{lon}\">\n",
    "      <ele>{ele}</ele>\n",
    "      <name>{wptname}</name>\n",
    "    </wpt>\"\"\"\n",
    "        gpx_output.append(gpx_item)\n",
    "    gpx_output.append(gpx_suffix)\n",
    "    return gpx_output\n"
   ]
  },
  {
   "cell_type": "code",
   "execution_count": 34,
   "metadata": {},
   "outputs": [
    {
     "name": "stdout",
     "output_type": "stream",
     "text": [
      "<?xml version=\"1.0\" encoding=\"utf-8\" standalone=\"yes\"?>\n",
      "    <gpx version=\"1.1\" creator=\"Alaska EPSCoR Fire and Ice https://epscor.alaska.edu/\" xmlns=\"http://www.topografix.com/GPX/1/1\" xmlns:xsi=\"http://www.w3.org/2001/XMLSchema-instance\" xsi:schemaLocation=\"http://www.topografix.com/GPX/1/1 http://www.topografix.com/GPX/1/1/gpx.xsd\">\n",
      "    \n",
      "<wpt lat=\"65.248\" lon=\"-147.692\">\n",
      "      <ele>0</ele>\n",
      "      <name>PT00</name>\n",
      "    </wpt>\n",
      "<wpt lat=\"65.12223513065285\" lon=\"-147.692\">\n",
      "      <ele>0</ele>\n",
      "      <name>PT01</name>\n",
      "    </wpt>\n",
      "<wpt lat=\"65.12223446394457\" lon=\"-147.6778514127303\">\n",
      "      <ele>0</ele>\n",
      "      <name>PT02</name>\n",
      "    </wpt>\n",
      "<wpt lat=\"65.24799933329173\" lon=\"-147.6778514127303\">\n",
      "      <ele>0</ele>\n",
      "      <name>PT03</name>\n",
      "    </wpt>\n",
      "<wpt lat=\"65.2479986627307\" lon=\"-147.66363549981094\">\n",
      "      <ele>0</ele>\n",
      "      <name>PT04</name>\n",
      "    </wpt>\n",
      "<wpt lat=\"65.12223379338353\" lon=\"-147.66363549981094\">\n",
      "      <ele>0</ele>\n",
      "      <name>PT05</name>\n",
      "    </wpt>\n",
      "<wpt lat=\"65.12223312667528\" lon=\"-147.64948691325336\">\n",
      "      <ele>0</ele>\n",
      "      <name>PT06</name>\n",
      "    </wpt>\n",
      "<wpt lat=\"65.24799799602243\" lon=\"-147.64948691325336\">\n",
      "      <ele>0</ele>\n",
      "      <name>PT07</name>\n",
      "    </wpt>\n",
      "<wpt lat=\"65.24799732546145\" lon=\"-147.63527100105364\">\n",
      "      <ele>0</ele>\n",
      "      <name>PT08</name>\n",
      "    </wpt>\n",
      "<wpt lat=\"65.1222324561143\" lon=\"-147.63527100105364\">\n",
      "      <ele>0</ele>\n",
      "      <name>PT09</name>\n",
      "    </wpt>\n",
      "<wpt lat=\"65.1222317894061\" lon=\"-147.62112241520816\">\n",
      "      <ele>0</ele>\n",
      "      <name>PT10</name>\n",
      "    </wpt>\n",
      "<wpt lat=\"65.24799665875325\" lon=\"-147.62112241520816\">\n",
      "      <ele>0</ele>\n",
      "      <name>PT11</name>\n",
      "    </wpt>\n",
      "<wpt lat=\"65.2479959881923\" lon=\"-147.6069065037281\">\n",
      "      <ele>0</ele>\n",
      "      <name>PT12</name>\n",
      "    </wpt>\n",
      "<wpt lat=\"65.12223111884515\" lon=\"-147.6069065037281\">\n",
      "      <ele>0</ele>\n",
      "      <name>PT13</name>\n",
      "    </wpt>\n",
      "<wpt lat=\"65.12223045213698\" lon=\"-147.5927579185948\">\n",
      "      <ele>0</ele>\n",
      "      <name>PT14</name>\n",
      "    </wpt>\n",
      "<wpt lat=\"65.24799532148413\" lon=\"-147.5927579185948\">\n",
      "      <ele>0</ele>\n",
      "      <name>PT15</name>\n",
      "    </wpt>\n",
      "<wpt lat=\"65.24799465092323\" lon=\"-147.5785420078344\">\n",
      "      <ele>0</ele>\n",
      "      <name>PT16</name>\n",
      "    </wpt>\n",
      "<wpt lat=\"65.12222978157607\" lon=\"-147.5785420078344\">\n",
      "      <ele>0</ele>\n",
      "      <name>PT17</name>\n",
      "    </wpt>\n",
      "<wpt lat=\"65.12222911486793\" lon=\"-147.5643934234132\">\n",
      "      <ele>0</ele>\n",
      "      <name>PT18</name>\n",
      "    </wpt>\n",
      "<wpt lat=\"65.2479939842151\" lon=\"-147.5643934234132\">\n",
      "      <ele>0</ele>\n",
      "      <name>PT19</name>\n",
      "    </wpt>\n",
      "<wpt lat=\"65.24799331365425\" lon=\"-147.55017751337246\">\n",
      "      <ele>0</ele>\n",
      "      <name>PT20</name>\n",
      "    </wpt>\n",
      "<wpt lat=\"65.12222844430708\" lon=\"-147.55017751337246\">\n",
      "      <ele>0</ele>\n",
      "      <name>PT21</name>\n",
      "    </wpt>\n",
      "<wpt lat=\"65.122227777599\" lon=\"-147.5360289296634\">\n",
      "      <ele>0</ele>\n",
      "      <name>PT22</name>\n",
      "    </wpt>\n",
      "<wpt lat=\"65.24799264694616\" lon=\"-147.5360289296634\">\n",
      "      <ele>0</ele>\n",
      "      <name>PT23</name>\n",
      "    </wpt>\n",
      "<wpt lat=\"65.24799197638535\" lon=\"-147.5218130203423\">\n",
      "      <ele>0</ele>\n",
      "      <name>PT24</name>\n",
      "    </wpt>\n",
      "<wpt lat=\"65.12222710703819\" lon=\"-147.52181302034234\">\n",
      "      <ele>0</ele>\n",
      "      <name>PT25</name>\n",
      "    </wpt>\n",
      "<wpt lat=\"65.12222644033012\" lon=\"-147.50766443734543\">\n",
      "      <ele>0</ele>\n",
      "      <name>PT26</name>\n",
      "    </wpt>\n",
      "<wpt lat=\"65.2479913096773\" lon=\"-147.50766443734543\">\n",
      "      <ele>0</ele>\n",
      "      <name>PT27</name>\n",
      "    </wpt>\n",
      "<wpt lat=\"65.24799063911654\" lon=\"-147.49344852874398\">\n",
      "      <ele>0</ele>\n",
      "      <name>PT28</name>\n",
      "    </wpt>\n",
      "<wpt lat=\"65.12222576976937\" lon=\"-147.49344852874398\">\n",
      "      <ele>0</ele>\n",
      "      <name>PT29</name>\n",
      "    </wpt>\n",
      "<wpt lat=\"65.12222510306135\" lon=\"-147.4792999464592\">\n",
      "      <ele>0</ele>\n",
      "      <name>PT30</name>\n",
      "    </wpt>\n",
      "<wpt lat=\"65.24798997240853\" lon=\"-147.47929994645924\">\n",
      "      <ele>0</ele>\n",
      "      <name>PT31</name>\n",
      "    </wpt>\n",
      "<wpt lat=\"65.24798930184778\" lon=\"-147.46508403857746\">\n",
      "      <ele>0</ele>\n",
      "      <name>PT32</name>\n",
      "    </wpt>\n",
      "<wpt lat=\"65.12222443250062\" lon=\"-147.46508403857746\">\n",
      "      <ele>0</ele>\n",
      "      <name>PT33</name>\n",
      "    </wpt>\n",
      "<wpt lat=\"65.12222376579265\" lon=\"-147.4509354570048\">\n",
      "      <ele>0</ele>\n",
      "      <name>PT34</name>\n",
      "    </wpt>\n",
      "<wpt lat=\"65.24798863513982\" lon=\"-147.4509354570048\">\n",
      "      <ele>0</ele>\n",
      "      <name>PT35</name>\n",
      "    </wpt>\n",
      "<wpt lat=\"65.24798796457912\" lon=\"-147.43671954984265\">\n",
      "      <ele>0</ele>\n",
      "      <name>PT36</name>\n",
      "    </wpt>\n",
      "<wpt lat=\"65.12222309523196\" lon=\"-147.43671954984265\">\n",
      "      <ele>0</ele>\n",
      "      <name>PT37</name>\n",
      "    </wpt>\n",
      "<wpt lat=\"65.12222242852404\" lon=\"-147.42257096898211\">\n",
      "      <ele>0</ele>\n",
      "      <name>PT38</name>\n",
      "    </wpt>\n",
      "<wpt lat=\"65.24798729787119\" lon=\"-147.42257096898211\">\n",
      "      <ele>0</ele>\n",
      "      <name>PT39</name>\n",
      "    </wpt>\n",
      "<wpt lat=\"65.24798662731054\" lon=\"-147.40835506253964\">\n",
      "      <ele>0</ele>\n",
      "      <name>PT40</name>\n",
      "    </wpt>\n",
      "<wpt lat=\"65.12222175796337\" lon=\"-147.40835506253964\">\n",
      "      <ele>0</ele>\n",
      "      <name>PT41</name>\n",
      "    </wpt>\n",
      "<wpt lat=\"65.1222210912555\" lon=\"-147.39420648239124\">\n",
      "      <ele>0</ele>\n",
      "      <name>PT42</name>\n",
      "    </wpt>\n",
      "<wpt lat=\"65.24798596060266\" lon=\"-147.39420648239124\">\n",
      "      <ele>0</ele>\n",
      "      <name>PT43</name>\n",
      "    </wpt>\n",
      "<wpt lat=\"65.24798529004204\" lon=\"-147.37999057666843\">\n",
      "      <ele>0</ele>\n",
      "      <name>PT44</name>\n",
      "    </wpt>\n",
      "<wpt lat=\"65.12222042069489\" lon=\"-147.37999057666843\">\n",
      "      <ele>0</ele>\n",
      "      <name>PT45</name>\n",
      "    </wpt>\n",
      "<wpt lat=\"65.12221975398704\" lon=\"-147.36584199723214\">\n",
      "      <ele>0</ele>\n",
      "      <name>PT46</name>\n",
      "    </wpt>\n",
      "<wpt lat=\"65.24798462333419\" lon=\"-147.36584199723214\">\n",
      "      <ele>0</ele>\n",
      "      <name>PT47</name>\n",
      "    </wpt>\n",
      "<wpt lat=\"65.24798395277361\" lon=\"-147.35162609222897\">\n",
      "      <ele>0</ele>\n",
      "      <name>PT48</name>\n",
      "    </wpt>\n",
      "<wpt lat=\"65.12221908342644\" lon=\"-147.35162609222897\">\n",
      "      <ele>0</ele>\n",
      "      <name>PT49</name>\n",
      "    </wpt>\n",
      "<wpt lat=\"65.12221841671865\" lon=\"-147.3374775135048\">\n",
      "      <ele>0</ele>\n",
      "      <name>PT50</name>\n",
      "    </wpt>\n",
      "<wpt lat=\"65.2479832860658\" lon=\"-147.3374775135048\">\n",
      "      <ele>0</ele>\n",
      "      <name>PT51</name>\n",
      "    </wpt>\n",
      "</gpx>\n"
     ]
    }
   ],
   "source": [
    "gpx_output = get_gpx(flightpoints)\n",
    "print('\\n'.join(gpx_output))"
   ]
  },
  {
   "cell_type": "markdown",
   "metadata": {},
   "source": [
    "Save GPX to file"
   ]
  },
  {
   "cell_type": "code",
   "execution_count": 56,
   "metadata": {},
   "outputs": [],
   "source": [
    "filename = 'myflightpoints.gpx'\n",
    "outpath = os.path.join('output/', filename)\n",
    "with open(outpath, 'w') as dst:\n",
    "    dst.write('\\n'.join(gpx_output))"
   ]
  },
  {
   "cell_type": "markdown",
   "metadata": {},
   "source": [
    "### Visualize reusulting flightpoints"
   ]
  },
  {
   "cell_type": "markdown",
   "metadata": {},
   "source": [
    "This requires some more imports"
   ]
  },
  {
   "cell_type": "code",
   "execution_count": 36,
   "metadata": {},
   "outputs": [],
   "source": [
    "import geopandas as gp\n",
    "from shapely.geometry import LineString, Point"
   ]
  },
  {
   "cell_type": "code",
   "execution_count": 40,
   "metadata": {},
   "outputs": [],
   "source": [
    "gis_pts = [Point(x, y) for _, y, x in flightpoints]\n",
    "gis_line = LineString(gis_pts)"
   ]
  },
  {
   "cell_type": "code",
   "execution_count": 41,
   "metadata": {},
   "outputs": [
    {
     "data": {
      "image/svg+xml": [
       "<svg xmlns=\"http://www.w3.org/2000/svg\" xmlns:xlink=\"http://www.w3.org/1999/xlink\" width=\"100.0\" height=\"100.0\" viewBox=\"-147.7061808994598 65.10803751725885 0.38288428541480357 0.15414338220095658\" preserveAspectRatio=\"xMinYMin meet\"><g transform=\"matrix(1,0,0,-1,0,130.37021841671867)\"><polyline fill=\"none\" stroke=\"#66cc99\" stroke-width=\"0.007657685708296071\" points=\"-147.692,65.248 -147.692,65.12223513065285 -147.6778514127303,65.12223446394457 -147.6778514127303,65.24799933329173 -147.66363549981094,65.2479986627307 -147.66363549981094,65.12223379338353 -147.64948691325336,65.12223312667528 -147.64948691325336,65.24799799602243 -147.63527100105364,65.24799732546145 -147.63527100105364,65.1222324561143 -147.62112241520816,65.1222317894061 -147.62112241520816,65.24799665875325 -147.6069065037281,65.2479959881923 -147.6069065037281,65.12223111884515 -147.5927579185948,65.12223045213698 -147.5927579185948,65.24799532148413 -147.5785420078344,65.24799465092323 -147.5785420078344,65.12222978157607 -147.5643934234132,65.12222911486793 -147.5643934234132,65.2479939842151 -147.55017751337246,65.24799331365425 -147.55017751337246,65.12222844430708 -147.5360289296634,65.122227777599 -147.5360289296634,65.24799264694616 -147.5218130203423,65.24799197638535 -147.52181302034234,65.12222710703819 -147.50766443734543,65.12222644033012 -147.50766443734543,65.2479913096773 -147.49344852874398,65.24799063911654 -147.49344852874398,65.12222576976937 -147.4792999464592,65.12222510306135 -147.47929994645924,65.24798997240853 -147.46508403857746,65.24798930184778 -147.46508403857746,65.12222443250062 -147.4509354570048,65.12222376579265 -147.4509354570048,65.24798863513982 -147.43671954984265,65.24798796457912 -147.43671954984265,65.12222309523196 -147.42257096898211,65.12222242852404 -147.42257096898211,65.24798729787119 -147.40835506253964,65.24798662731054 -147.40835506253964,65.12222175796337 -147.39420648239124,65.1222210912555 -147.39420648239124,65.24798596060266 -147.37999057666843,65.24798529004204 -147.37999057666843,65.12222042069489 -147.36584199723214,65.12221975398704 -147.36584199723214,65.24798462333419 -147.35162609222897,65.24798395277361 -147.35162609222897,65.12221908342644 -147.3374775135048,65.12221841671865 -147.3374775135048,65.2479832860658\" opacity=\"0.8\" /></g></svg>"
      ],
      "text/plain": [
       "<shapely.geometry.linestring.LineString at 0x11dbb7dd8>"
      ]
     },
     "execution_count": 41,
     "metadata": {},
     "output_type": "execute_result"
    }
   ],
   "source": [
    "gis_line"
   ]
  },
  {
   "cell_type": "code",
   "execution_count": 42,
   "metadata": {},
   "outputs": [],
   "source": [
    "pts_series = gp.GeoSeries(gis_pts)\n",
    "line_series = gp.GeoSeries([gis_line])"
   ]
  },
  {
   "cell_type": "code",
   "execution_count": 59,
   "metadata": {},
   "outputs": [
    {
     "data": {
      "image/png": "[encoded data removed]",
      "text/plain": [
       "<Figure size 720x576 with 1 Axes>"
      ]
     },
     "metadata": {
      "needs_background": "light"
     },
     "output_type": "display_data"
    }
   ],
   "source": [
    "ax = line_series.plot(figsize=(10,8))\n",
    "pts_series.plot(ax=ax, color='r')\n",
    "ax.set_aspect(2)\n",
    "bottom, top = ax.get_ylim()\n",
    "left, right = ax.get_xlim()\n",
    "ax.set_ylim(bottom - 0.01, top + 0.01)\n",
    "ax.set_xlim(left - 0.02, right + 0.02)\n",
    "for idx, pt in enumerate(pts_series):\n",
    "    ax.annotate(flightpoints[idx][0], xy=(pt.x, pt.y), xytext=(-7, 10), textcoords=\"offset points\")"
   ]
  },
  {
   "cell_type": "code",
   "execution_count": null,
   "metadata": {},
   "outputs": [],
   "source": []
  }
 ],
 "metadata": {
  "kernelspec": {
   "display_name": "Python 3",
   "language": "python",
   "name": "python3"
  },
  "language_info": {
   "codemirror_mode": {
    "name": "ipython",
    "version": 3
   },
   "file_extension": ".py",
   "mimetype": "text/x-python",
   "name": "python",
   "nbconvert_exporter": "python",
   "pygments_lexer": "ipython3",
   "version": "3.6.10"
  }
 },
 "nbformat": 4,
 "nbformat_minor": 4
}
